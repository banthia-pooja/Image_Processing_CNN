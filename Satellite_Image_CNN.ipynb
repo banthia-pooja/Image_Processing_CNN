{
 "cells": [
  {
   "cell_type": "code",
   "execution_count": 1,
   "metadata": {},
   "outputs": [
    {
     "name": "stderr",
     "output_type": "stream",
     "text": [
      "Using TensorFlow backend.\n",
      "C:\\Users\\sidew\\Anaconda3\\lib\\site-packages\\sklearn\\ensemble\\weight_boosting.py:29: DeprecationWarning: numpy.core.umath_tests is an internal NumPy module and should not be imported. It will be removed in a future NumPy release.\n",
      "  from numpy.core.umath_tests import inner1d\n"
     ]
    }
   ],
   "source": [
    "import cv2\n",
    "import os\n",
    "import numpy as np\n",
    "import pandas as pd\n",
    "import json\n",
    "import random\n",
    "from sklearn.model_selection import train_test_split\n",
    "import math\n",
    "import tensorflow as tf\n",
    "import matplotlib.pyplot as plt\n",
    "from sklearn.metrics import confusion_matrix\n",
    "from sklearn.metrics import accuracy_score\n",
    "from sklearn.model_selection import GridSearchCV\n",
    "import keras\n",
    "from keras.models import Sequential\n",
    "from keras.layers import Dense, Conv2D, Flatten, MaxPooling2D, Dropout\n",
    "from keras import backend as K\n",
    "from keras.optimizers import Adam, SGD\n",
    "from keras.utils import to_categorical\n",
    "from keras.models import model_from_json\n",
    "from sklearn.ensemble import RandomForestClassifier\n",
    "from sklearn.model_selection import ParameterGrid\n",
    "from sklearn.svm import SVC\n",
    "from sklearn.ensemble import AdaBoostClassifier\n",
    "\n",
    "\n",
    "%matplotlib inline"
   ]
  },
  {
   "cell_type": "code",
   "execution_count": 2,
   "metadata": {},
   "outputs": [],
   "source": [
    "os.chdir(\"C:/Users/sidew/Desktop/New folder/\")"
   ]
  },
  {
   "cell_type": "code",
   "execution_count": 3,
   "metadata": {},
   "outputs": [],
   "source": [
    "with open(\"shipsnet.json\", \"r\") as read_file:\n",
    "    data = json.load(read_file)"
   ]
  },
  {
   "cell_type": "code",
   "execution_count": null,
   "metadata": {},
   "outputs": [],
   "source": [
    "# index = 170\n",
    "# pixel_vals = x[index]\n",
    "# arr = np.array(pixel_vals).astype('uint8')\n",
    "# im = arr.reshape((3, 6400)).T.reshape((80,80,3))\n",
    "# plt.imshow(im)\n",
    "\n",
    "# cv2.imshow('dfg',x[1].reshape(3, 6400).T.reshape([80,80,3]))\n",
    "# cv2.waitKey()\n",
    "# cv2.destroyAllWindows"
   ]
  },
  {
   "cell_type": "code",
   "execution_count": 4,
   "metadata": {},
   "outputs": [],
   "source": [
    "x = np.array(data['data']).astype('uint8')\n",
    "y = np.array(data['labels']).astype('uint8')"
   ]
  },
  {
   "cell_type": "code",
   "execution_count": 6,
   "metadata": {},
   "outputs": [
    {
     "data": {
      "text/plain": [
       "(4000, 19200)"
      ]
     },
     "execution_count": 6,
     "metadata": {},
     "output_type": "execute_result"
    }
   ],
   "source": [
    "x.shape"
   ]
  },
  {
   "cell_type": "code",
   "execution_count": 8,
   "metadata": {},
   "outputs": [
    {
     "data": {
      "text/plain": [
       "1"
      ]
     },
     "execution_count": 8,
     "metadata": {},
     "output_type": "execute_result"
    },
    {
     "data": {
      "image/png": "[encoded data removed]",
      "text/plain": [
       "<Figure size 432x288 with 1 Axes>"
      ]
     },
     "metadata": {
      "needs_background": "light"
     },
     "output_type": "display_data"
    }
   ],
   "source": [
    "im = x[0].reshape((3, 6400)).T.reshape((80,80,3))\n",
    "plt.imshow(im)\n",
    "y[0]"
   ]
  },
  {
   "cell_type": "code",
   "execution_count": 9,
   "metadata": {},
   "outputs": [],
   "source": [
    "random.seed(7)\n",
    "reter = random.sample(range(4000), 4000)"
   ]
  },
  {
   "cell_type": "code",
   "execution_count": 10,
   "metadata": {},
   "outputs": [],
   "source": [
    "randomiz_x = x[reter,:]\n",
    "randomiz_y = y[reter]"
   ]
  },
  {
   "cell_type": "code",
   "execution_count": 11,
   "metadata": {},
   "outputs": [],
   "source": [
    "X_train, X_test, y_train, y_test = train_test_split(randomiz_x, randomiz_y, test_size=0.3, random_state=0, stratify= randomiz_y)"
   ]
  },
  {
   "cell_type": "code",
   "execution_count": 12,
   "metadata": {},
   "outputs": [],
   "source": [
    "X_train, X_val, y_train, y_val = train_test_split(X_train, y_train, test_size = 0.1, random_state = 1, stratify = y_train)"
   ]
  },
  {
   "cell_type": "code",
   "execution_count": 13,
   "metadata": {},
   "outputs": [
    {
     "name": "stdout",
     "output_type": "stream",
     "text": [
      "2520\n",
      "630\n",
      "1890\n",
      "280\n",
      "70\n",
      "210\n",
      "1200\n",
      "300\n",
      "900\n"
     ]
    }
   ],
   "source": [
    "print(len(y_train))\n",
    "print(np.sum(y_train == 1))\n",
    "print(np.sum(y_train == 0))\n",
    "print(len(y_val))\n",
    "print(np.sum(y_val == 1))\n",
    "print(np.sum(y_val == 0))\n",
    "print(len(y_test))\n",
    "print(np.sum(y_test == 1))\n",
    "print(np.sum(y_test == 0))"
   ]
  },
  {
   "cell_type": "markdown",
   "metadata": {},
   "source": [
    "# KERAS IMPORTANCE OF NORMALIZATION - 75 TO 96"
   ]
  },
  {
   "cell_type": "code",
   "execution_count": 14,
   "metadata": {},
   "outputs": [],
   "source": [
    "Keras_X_train = X_train\n",
    "Keras_X_val = X_val\n",
    "Keras_X_test = X_test\n",
    "\n",
    "Keras_X_train = Keras_X_train.astype('float32')\n",
    "Keras_X_test = Keras_X_test.astype('float32')\n",
    "Keras_X_val = Keras_X_val.astype('float32')\n",
    "\n",
    "# Keras_X_train/= 255.0\n",
    "# Keras_X_test/= 255.0\n",
    "# Keras_X_val/= 255.0\n",
    "\n",
    "Keras_X_train = Keras_X_train.reshape([-1,80,80,3])\n",
    "Keras_X_val = Keras_X_val.reshape([-1,80,80,3])\n",
    "Keras_X_test = Keras_X_test.reshape([-1,80,80,3])"
   ]
  },
  {
   "cell_type": "code",
   "execution_count": 15,
   "metadata": {},
   "outputs": [],
   "source": [
    "Keras_y_train = y_train\n",
    "Keras_y_val = y_val\n",
    "Keras_y_test = y_test\n",
    "\n",
    "Keras_y_train = to_categorical(Keras_y_train)\n",
    "Keras_y_val = to_categorical(Keras_y_val)\n",
    "Keras_y_test = to_categorical(Keras_y_test)"
   ]
  },
  {
   "cell_type": "code",
   "execution_count": 16,
   "metadata": {},
   "outputs": [
    {
     "data": {
      "text/plain": [
       "array([1., 0.], dtype=float32)"
      ]
     },
     "execution_count": 16,
     "metadata": {},
     "output_type": "execute_result"
    }
   ],
   "source": [
    "Keras_y_train[1]"
   ]
  },
  {
   "cell_type": "code",
   "execution_count": 19,
   "metadata": {},
   "outputs": [],
   "source": [
    "classes = ['no ship', 'ship']\n",
    "num_classes = len(classes)\n",
    "new_model = Sequential()\n",
    "\n",
    "new_model.add(Conv2D(64, kernel_size=(3, 3), activation = 'relu', input_shape = (80,80,3)))\n",
    "new_model.add(Dropout(0.20))\n",
    "\n",
    "new_model.add(Conv2D(64, (3, 3), activation='relu'))\n",
    "new_model.add(Dropout(0.20))\n",
    "\n",
    "new_model.add(Conv2D(64, (3, 3), activation='relu'))\n",
    "new_model.add(Dropout(0.20))\n",
    "\n",
    "new_model.add(Flatten())\n",
    "new_model.add(Dense(64,activation='relu'))\n",
    "new_model.add(Dropout(0.20))\n",
    "new_model.add(Dense(num_classes, activation='softmax'))\n",
    "\n",
    "#compile model\n",
    "new_model.compile(loss='categorical_crossentropy',optimizer='sgd',metrics=['accuracy'])\n",
    "\n"
   ]
  },
  {
   "cell_type": "code",
   "execution_count": 20,
   "metadata": {},
   "outputs": [
    {
     "name": "stdout",
     "output_type": "stream",
     "text": [
      "WARNING:tensorflow:From C:\\Users\\sidew\\Anaconda3\\lib\\site-packages\\tensorflow\\python\\ops\\math_ops.py:3066: to_int32 (from tensorflow.python.ops.math_ops) is deprecated and will be removed in a future version.\n",
      "Instructions for updating:\n",
      "Use tf.cast instead.\n",
      "Train on 2520 samples, validate on 280 samples\n",
      "Epoch 1/10\n",
      "2520/2520 [==============================] - 179s 71ms/step - loss: 4.0709 - acc: 0.7460 - val_loss: 4.0295 - val_acc: 0.7500\n",
      "Epoch 2/10\n",
      "2520/2520 [==============================] - 176s 70ms/step - loss: 4.0295 - acc: 0.7500 - val_loss: 4.0295 - val_acc: 0.7500\n",
      "Epoch 3/10\n",
      "2520/2520 [==============================] - 175s 69ms/step - loss: 4.0295 - acc: 0.7500 - val_loss: 4.0295 - val_acc: 0.7500\n",
      "Epoch 4/10\n",
      "2520/2520 [==============================] - 174s 69ms/step - loss: 4.0295 - acc: 0.7500 - val_loss: 4.0295 - val_acc: 0.7500\n",
      "Epoch 5/10\n",
      "2520/2520 [==============================] - 183s 72ms/step - loss: 4.0295 - acc: 0.7500 - val_loss: 4.0295 - val_acc: 0.7500\n",
      "Epoch 6/10\n",
      "2520/2520 [==============================] - 179s 71ms/step - loss: 4.0295 - acc: 0.7500 - val_loss: 4.0295 - val_acc: 0.7500\n",
      "Epoch 7/10\n",
      "2520/2520 [==============================] - 174s 69ms/step - loss: 4.0295 - acc: 0.7500 - val_loss: 4.0295 - val_acc: 0.7500\n",
      "Epoch 8/10\n",
      "2520/2520 [==============================] - 180s 72ms/step - loss: 4.0295 - acc: 0.7500 - val_loss: 4.0295 - val_acc: 0.7500\n",
      "Epoch 9/10\n",
      "2520/2520 [==============================] - 182s 72ms/step - loss: 4.0295 - acc: 0.7500 - val_loss: 4.0295 - val_acc: 0.7500\n",
      "Epoch 10/10\n",
      "2520/2520 [==============================] - 182s 72ms/step - loss: 4.0295 - acc: 0.7500 - val_loss: 4.0295 - val_acc: 0.7500\n"
     ]
    },
    {
     "data": {
      "text/plain": [
       "<keras.callbacks.History at 0x22265416ba8>"
      ]
     },
     "execution_count": 20,
     "metadata": {},
     "output_type": "execute_result"
    }
   ],
   "source": [
    "new_model.fit(Keras_X_train, Keras_y_train, validation_data=(Keras_X_val, Keras_y_val), epochs=10, batch_size=32, verbose=1)"
   ]
  },
  {
   "cell_type": "code",
   "execution_count": 21,
   "metadata": {},
   "outputs": [],
   "source": [
    "sgd_without_stratify = new_model.to_json()\n",
    "with open(\"swiths.json\", \"w\") as json_file:\n",
    "    json_file.write(sgd_without_stratify)\n",
    "new_model.save_weights(\"swiths.h5\")"
   ]
  },
  {
   "cell_type": "code",
   "execution_count": 22,
   "metadata": {},
   "outputs": [],
   "source": [
    "json_file = open('swiths.json', 'r')\n",
    "loaded_model_json = json_file.read()\n",
    "json_file.close()\n",
    "loaded_model = model_from_json(loaded_model_json)\n",
    "loaded_model.load_weights(\"swiths.h5\")"
   ]
  },
  {
   "cell_type": "code",
   "execution_count": 24,
   "metadata": {},
   "outputs": [
    {
     "data": {
      "text/plain": [
       "0.75"
      ]
     },
     "execution_count": 24,
     "metadata": {},
     "output_type": "execute_result"
    }
   ],
   "source": [
    "dfio = loaded_model.predict(Keras_X_test)\n",
    "cfio = np.argmax(dfio, axis=1)\n",
    "gfio = np.argmax(Keras_y_test, axis = 1)\n",
    "accuracy_score(gfio, cfio)"
   ]
  },
  {
   "cell_type": "code",
   "execution_count": 28,
   "metadata": {},
   "outputs": [],
   "source": [
    "X_train = X_train.astype('float32')\n",
    "X_val = X_val.astype('float32')\n",
    "X_test = X_test.astype('float32')"
   ]
  },
  {
   "cell_type": "code",
   "execution_count": 29,
   "metadata": {},
   "outputs": [],
   "source": [
    "X_train/= 255\n",
    "X_test/= 255\n",
    "X_val/= 255"
   ]
  },
  {
   "cell_type": "code",
   "execution_count": 9,
   "metadata": {},
   "outputs": [],
   "source": [
    "#Convolutional Layer 1\n",
    "filter_size1 = 3 \n",
    "num_filters1 = 32\n",
    "\n",
    "# Convolutional Layer 2.\n",
    "filter_size2 = 3\n",
    "num_filters2 = 32\n",
    "\n",
    "# Convolutional Layer 3.\n",
    "filter_size3 = 3\n",
    "num_filters3 = 64\n",
    "\n",
    "# Fully-connected layer.\n",
    "fc_size = 128             # Number of neurons in fully-connected layer.\n",
    "\n",
    "# Number of color channels for the images: 1 channel for gray-scale.\n",
    "num_channels = 3\n",
    "\n",
    "# image dimensions (only squares for now)\n",
    "img_size = 80\n",
    "\n",
    "# Size of image when flattened to a single dimension\n",
    "img_size_flat = img_size * img_size * num_channels\n",
    "\n",
    "# Tuple with height and width of images used to reshape arrays.\n",
    "img_shape = (img_size, img_size)\n",
    "\n",
    "# class info\n",
    "classes = ['no ship', 'ship']\n",
    "num_classes = len(classes)\n",
    "cfgt = np.array([[0, 1]])\n",
    "\n",
    "# batch size\n",
    "batch_size = 32"
   ]
  },
  {
   "cell_type": "code",
   "execution_count": 10,
   "metadata": {},
   "outputs": [],
   "source": [
    "def new_weights(shape):\n",
    "    return tf.Variable(tf.truncated_normal(shape, stddev=0.05))"
   ]
  },
  {
   "cell_type": "code",
   "execution_count": 11,
   "metadata": {},
   "outputs": [],
   "source": [
    "def new_biases(length):\n",
    "    return tf.Variable(tf.constant(0.05, shape=[length]))"
   ]
  },
  {
   "cell_type": "code",
   "execution_count": 12,
   "metadata": {},
   "outputs": [],
   "source": [
    "def new_conv_layer(input,              # The previous layer.\n",
    "                   num_input_channels, # Num. channels in prev. layer.\n",
    "                   filter_size,        # Width and height of each filter.\n",
    "                   num_filters,        # Number of filters.\n",
    "                   use_pooling=True):  # Use 2x2 max-pooling.\n",
    "\n",
    "    # Shape of the filter-weights for the convolution.\n",
    "    # This format is determined by the TensorFlow API.\n",
    "    shape = [filter_size, filter_size, num_input_channels, num_filters]\n",
    "\n",
    "    # Create new weights aka. filters with the given shape.\n",
    "    weights = new_weights(shape=shape)\n",
    "\n",
    "    # Create new biases, one for each filter.\n",
    "    biases = new_biases(length=num_filters)\n",
    "\n",
    "\n",
    "    layer = tf.nn.conv2d(input=input,\n",
    "                         filter=weights,\n",
    "                         strides=[1, 1, 1, 1],\n",
    "                         padding='SAME')\n",
    "\n",
    "    # Add the biases to the results of the convolution.\n",
    "    # A bias-value is added to each filter-channel.\n",
    "    layer += biases\n",
    "\n",
    "    # Use pooling to down-sample the image resolution?\n",
    "    if use_pooling:\n",
    "       \n",
    "        layer = tf.nn.max_pool(value=layer,\n",
    "                               ksize=[1, 2, 2, 1],\n",
    "                               strides=[1, 2, 2, 1],\n",
    "                               padding='SAME')\n",
    "\n",
    "    layer = tf.nn.relu(layer)\n",
    "\n",
    "    # Note that ReLU is normally executed before the pooling,\n",
    "    # but since relu(max_pool(x)) == max_pool(relu(x)) we can\n",
    "    # save 75% of the relu-operations by max-pooling first.\n",
    "\n",
    "    # We return both the resulting layer and the filter-weights\n",
    "    # because we will plot the weights later.\n",
    "    return layer, weights"
   ]
  },
  {
   "cell_type": "code",
   "execution_count": 13,
   "metadata": {},
   "outputs": [],
   "source": [
    "def flatten_layer(layer):\n",
    "    # Get the shape of the input layer.\n",
    "    layer_shape = layer.get_shape()\n",
    "\n",
    "    # The shape of the input layer is assumed to be:\n",
    "    # layer_shape == [num_images, img_height, img_width, num_channels]\n",
    "\n",
    "    # The number of features is: img_height * img_width * num_channels\n",
    "    # We can use a function from TensorFlow to calculate this.\n",
    "    num_features = layer_shape[1:4].num_elements()\n",
    "    \n",
    "    # Reshape the layer to [num_images, num_features].\n",
    "    # Note that we just set the size of the second dimension\n",
    "    # to num_features and the size of the first dimension to -1\n",
    "    # which means the size in that dimension is calculated\n",
    "    # so the total size of the tensor is unchanged from the reshaping.\n",
    "    layer_flat = tf.reshape(layer, [-1, num_features])\n",
    "\n",
    "    # The shape of the flattened layer is now:\n",
    "    # [num_images, img_height * img_width * num_channels]\n",
    "\n",
    "    # Return both the flattened layer and the number of features.\n",
    "    return layer_flat, num_features"
   ]
  },
  {
   "cell_type": "code",
   "execution_count": 14,
   "metadata": {},
   "outputs": [],
   "source": [
    "def new_fc_layer(input,          # The previous layer.\n",
    "                 num_inputs,     # Num. inputs from prev. layer.\n",
    "                 num_outputs,    # Num. outputs.\n",
    "                 use_relu=True): # Use Rectified Linear Unit (ReLU)?\n",
    "\n",
    "    # Create new weights and biases.\n",
    "    weights = new_weights(shape=[num_inputs, num_outputs])\n",
    "    biases = new_biases(length=num_outputs)\n",
    "\n",
    "    # Calculate the layer as the matrix multiplication of\n",
    "    # the input and weights, and then add the bias-values.\n",
    "    layer = tf.matmul(input, weights) + biases\n",
    "\n",
    "    # Use ReLU?\n",
    "    if use_relu:\n",
    "        layer = tf.nn.relu(layer)\n",
    "\n",
    "    return layer"
   ]
  },
  {
   "cell_type": "code",
   "execution_count": 15,
   "metadata": {},
   "outputs": [],
   "source": [
    "a = tf.placeholder(tf.float32, shape=[None, img_size_flat], name='a')"
   ]
  },
  {
   "cell_type": "code",
   "execution_count": 16,
   "metadata": {},
   "outputs": [],
   "source": [
    "b_true = tf.placeholder(tf.float32, shape=[None, num_classes], name='b_true')"
   ]
  },
  {
   "cell_type": "code",
   "execution_count": 17,
   "metadata": {},
   "outputs": [],
   "source": [
    "a_image = tf.reshape(a, [-1, img_size, img_size, num_channels])"
   ]
  },
  {
   "cell_type": "code",
   "execution_count": 18,
   "metadata": {},
   "outputs": [
    {
     "name": "stdout",
     "output_type": "stream",
     "text": [
      "WARNING:tensorflow:From <ipython-input-18-0f59ab383597>:1: calling argmax (from tensorflow.python.ops.math_ops) with dimension is deprecated and will be removed in a future version.\n",
      "Instructions for updating:\n",
      "Use the `axis` argument instead\n"
     ]
    }
   ],
   "source": [
    "b_true_cls = tf.argmax(b_true, dimension=1)"
   ]
  },
  {
   "cell_type": "code",
   "execution_count": 19,
   "metadata": {},
   "outputs": [
    {
     "name": "stdout",
     "output_type": "stream",
     "text": [
      "WARNING:tensorflow:From C:\\Users\\sidew\\Anaconda3\\lib\\site-packages\\tensorflow\\python\\framework\\op_def_library.py:263: colocate_with (from tensorflow.python.framework.ops) is deprecated and will be removed in a future version.\n",
      "Instructions for updating:\n",
      "Colocations handled automatically by placer.\n"
     ]
    }
   ],
   "source": [
    "layer_conv1, weights_conv1 = new_conv_layer(input = a_image, num_input_channels = num_channels, filter_size = filter_size1,\n",
    "                                            num_filters = num_filters1, use_pooling = True)"
   ]
  },
  {
   "cell_type": "code",
   "execution_count": 20,
   "metadata": {},
   "outputs": [
    {
     "data": {
      "text/plain": [
       "<tf.Tensor 'Relu:0' shape=(?, 40, 40, 32) dtype=float32>"
      ]
     },
     "execution_count": 20,
     "metadata": {},
     "output_type": "execute_result"
    }
   ],
   "source": [
    "layer_conv1"
   ]
  },
  {
   "cell_type": "code",
   "execution_count": 21,
   "metadata": {},
   "outputs": [],
   "source": [
    "layer_conv2, weights_conv2 = new_conv_layer(input=layer_conv1, num_input_channels=num_filters1, filter_size=filter_size2,\n",
    "                                            num_filters=num_filters2, use_pooling=True)"
   ]
  },
  {
   "cell_type": "code",
   "execution_count": 22,
   "metadata": {},
   "outputs": [
    {
     "data": {
      "text/plain": [
       "<tf.Tensor 'Relu_1:0' shape=(?, 20, 20, 32) dtype=float32>"
      ]
     },
     "execution_count": 22,
     "metadata": {},
     "output_type": "execute_result"
    }
   ],
   "source": [
    "layer_conv2"
   ]
  },
  {
   "cell_type": "code",
   "execution_count": 23,
   "metadata": {},
   "outputs": [],
   "source": [
    "layer_conv3, weights_conv3 = new_conv_layer(input=layer_conv2, num_input_channels=num_filters2, filter_size=filter_size3, \n",
    "                                            num_filters=num_filters3, use_pooling=True)"
   ]
  },
  {
   "cell_type": "code",
   "execution_count": 24,
   "metadata": {},
   "outputs": [
    {
     "data": {
      "text/plain": [
       "<tf.Tensor 'Relu_2:0' shape=(?, 10, 10, 64) dtype=float32>"
      ]
     },
     "execution_count": 24,
     "metadata": {},
     "output_type": "execute_result"
    }
   ],
   "source": [
    "layer_conv3"
   ]
  },
  {
   "cell_type": "code",
   "execution_count": 25,
   "metadata": {},
   "outputs": [],
   "source": [
    "layer_flat, num_features = flatten_layer(layer_conv3)"
   ]
  },
  {
   "cell_type": "code",
   "execution_count": 26,
   "metadata": {},
   "outputs": [
    {
     "data": {
      "text/plain": [
       "(<tf.Tensor 'Reshape_1:0' shape=(?, 6400) dtype=float32>, 6400)"
      ]
     },
     "execution_count": 26,
     "metadata": {},
     "output_type": "execute_result"
    }
   ],
   "source": [
    "layer_flat, num_features"
   ]
  },
  {
   "cell_type": "code",
   "execution_count": 27,
   "metadata": {},
   "outputs": [],
   "source": [
    "layer_fc1 = new_fc_layer(input=layer_flat, num_inputs=num_features, num_outputs=fc_size, use_relu=True)"
   ]
  },
  {
   "cell_type": "code",
   "execution_count": 28,
   "metadata": {},
   "outputs": [
    {
     "data": {
      "text/plain": [
       "<tf.Tensor 'Relu_3:0' shape=(?, 128) dtype=float32>"
      ]
     },
     "execution_count": 28,
     "metadata": {},
     "output_type": "execute_result"
    }
   ],
   "source": [
    "layer_fc1"
   ]
  },
  {
   "cell_type": "code",
   "execution_count": 29,
   "metadata": {},
   "outputs": [],
   "source": [
    "layer_fc2 = new_fc_layer(input=layer_fc1, num_inputs=fc_size, num_outputs=num_classes, use_relu=False)"
   ]
  },
  {
   "cell_type": "code",
   "execution_count": 30,
   "metadata": {},
   "outputs": [
    {
     "data": {
      "text/plain": [
       "<tf.Tensor 'add_4:0' shape=(?, 2) dtype=float32>"
      ]
     },
     "execution_count": 30,
     "metadata": {},
     "output_type": "execute_result"
    }
   ],
   "source": [
    "layer_fc2"
   ]
  },
  {
   "cell_type": "code",
   "execution_count": 31,
   "metadata": {},
   "outputs": [],
   "source": [
    "y_pred = tf.nn.softmax(layer_fc2)"
   ]
  },
  {
   "cell_type": "code",
   "execution_count": 35,
   "metadata": {},
   "outputs": [],
   "source": [
    "y_pred_cls = tf.argmax(y_pred, dimension=1)"
   ]
  },
  {
   "cell_type": "code",
   "execution_count": 32,
   "metadata": {},
   "outputs": [
    {
     "name": "stdout",
     "output_type": "stream",
     "text": [
      "WARNING:tensorflow:From <ipython-input-32-8fe715d954bf>:1: softmax_cross_entropy_with_logits (from tensorflow.python.ops.nn_ops) is deprecated and will be removed in a future version.\n",
      "Instructions for updating:\n",
      "\n",
      "Future major versions of TensorFlow will allow gradients to flow\n",
      "into the labels input on backprop by default.\n",
      "\n",
      "See `tf.nn.softmax_cross_entropy_with_logits_v2`.\n",
      "\n"
     ]
    }
   ],
   "source": [
    "cross_entropy = tf.nn.softmax_cross_entropy_with_logits(logits=layer_fc2, labels=b_true)"
   ]
  },
  {
   "cell_type": "code",
   "execution_count": 33,
   "metadata": {},
   "outputs": [],
   "source": [
    "cost = tf.reduce_mean(cross_entropy)"
   ]
  },
  {
   "cell_type": "code",
   "execution_count": 34,
   "metadata": {},
   "outputs": [],
   "source": [
    "optimizer = tf.train.AdamOptimizer(learning_rate=1e-4).minimize(cost)"
   ]
  },
  {
   "cell_type": "code",
   "execution_count": 36,
   "metadata": {
    "scrolled": true
   },
   "outputs": [
    {
     "name": "stdout",
     "output_type": "stream",
     "text": [
      "Results from step: 0\n",
      "0.6666666865348816 is the accuracy on training set\n",
      "0.6642857142857143 is the accuracy on validation set\n",
      "Results from step: 30\n",
      "0.7333333492279053 is the accuracy on training set\n",
      "0.8 is the accuracy on validation set\n",
      "Results from step: 60\n",
      "0.9333333373069763 is the accuracy on training set\n",
      "0.8785714285714286 is the accuracy on validation set\n",
      "Results from step: 90\n",
      "0.9333333373069763 is the accuracy on training set\n",
      "0.8821428571428571 is the accuracy on validation set\n",
      "Results from step: 120\n",
      "0.9666666388511658 is the accuracy on training set\n",
      "0.9107142857142857 is the accuracy on validation set\n",
      "Results from step: 150\n",
      "0.9666666388511658 is the accuracy on training set\n",
      "0.9178571428571428 is the accuracy on validation set\n",
      "Results from step: 180\n",
      "0.9666666388511658 is the accuracy on training set\n",
      "0.9357142857142857 is the accuracy on validation set\n",
      "Results from step: 210\n",
      "1.0 is the accuracy on training set\n",
      "0.9321428571428572 is the accuracy on validation set\n",
      "Results from step: 240\n",
      "1.0 is the accuracy on training set\n",
      "0.9285714285714286 is the accuracy on validation set\n",
      "Results from step: 270\n",
      "1.0 is the accuracy on training set\n",
      "0.9357142857142857 is the accuracy on validation set\n",
      "Results from step: 300\n",
      "0.9666666388511658 is the accuracy on training set\n",
      "0.9642857142857143 is the accuracy on validation set\n",
      "Results from step: 330\n",
      "1.0 is the accuracy on training set\n",
      "0.9642857142857143 is the accuracy on validation set\n",
      "Results from step: 360\n",
      "1.0 is the accuracy on training set\n",
      "0.95 is the accuracy on validation set\n",
      "Results from step: 390\n",
      "0.9666666388511658 is the accuracy on training set\n",
      "0.9678571428571429 is the accuracy on validation set\n",
      "Results from step: 420\n",
      "1.0 is the accuracy on training set\n",
      "0.9607142857142857 is the accuracy on validation set\n",
      "Results from step: 450\n",
      "1.0 is the accuracy on training set\n",
      "0.95 is the accuracy on validation set\n",
      "Results from step: 480\n",
      "0.9666666388511658 is the accuracy on training set\n",
      "0.9571428571428572 is the accuracy on validation set\n",
      "Results from step: 510\n",
      "1.0 is the accuracy on training set\n",
      "0.9642857142857143 is the accuracy on validation set\n",
      "Results from step: 540\n",
      "1.0 is the accuracy on training set\n",
      "0.9428571428571428 is the accuracy on validation set\n",
      "Results from step: 570\n",
      "0.9666666388511658 is the accuracy on training set\n",
      "0.9714285714285714 is the accuracy on validation set\n",
      "Results from step: 600\n",
      "1.0 is the accuracy on training set\n",
      "0.975 is the accuracy on validation set\n",
      "Results from step: 630\n",
      "1.0 is the accuracy on training set\n",
      "0.975 is the accuracy on validation set\n",
      "Results from step: 660\n",
      "1.0 is the accuracy on training set\n",
      "0.975 is the accuracy on validation set\n",
      "Results from step: 690\n",
      "1.0 is the accuracy on training set\n",
      "0.9464285714285714 is the accuracy on validation set\n",
      "Results from step: 720\n",
      "0.9666666388511658 is the accuracy on training set\n",
      "0.9 is the accuracy on validation set\n",
      "Results from step: 750\n",
      "1.0 is the accuracy on training set\n",
      "0.9642857142857143 is the accuracy on validation set\n",
      "Results from step: 780\n",
      "1.0 is the accuracy on training set\n",
      "0.9678571428571429 is the accuracy on validation set\n",
      "Results from step: 810\n",
      "1.0 is the accuracy on training set\n",
      "0.9714285714285714 is the accuracy on validation set\n",
      "Results from step: 840\n",
      "0.9666666388511658 is the accuracy on training set\n",
      "0.9642857142857143 is the accuracy on validation set\n",
      "Results from step: 870\n",
      "1.0 is the accuracy on training set\n",
      "0.9714285714285714 is the accuracy on validation set\n",
      "Results from step: 900\n",
      "1.0 is the accuracy on training set\n",
      "0.975 is the accuracy on validation set\n",
      "Results from step: 930\n",
      "1.0 is the accuracy on training set\n",
      "0.975 is the accuracy on validation set\n",
      "Results from step: 960\n",
      "1.0 is the accuracy on training set\n",
      "0.9714285714285714 is the accuracy on validation set\n",
      "Results from step: 990\n",
      "1.0 is the accuracy on training set\n",
      "0.9785714285714285 is the accuracy on validation set\n"
     ]
    }
   ],
   "source": [
    "shape_dim = len(X_val)\n",
    "vald = X_val.reshape([shape_dim,19200])\n",
    "init = tf.global_variables_initializer()\n",
    "steps = 1000\n",
    "batch_size = 30\n",
    "saver = tf.train.Saver()\n",
    "with tf.Session() as sess:\n",
    "    sess.run(init)\n",
    "    accuracy_list = []\n",
    "    for i in range(steps):\n",
    "        rand_list = np.random.randint(0,2519,batch_size)\n",
    "        batch_x = X_train[rand_list]\n",
    "        get_y = tf.one_hot(y_train[rand_list],2)\n",
    "        batch_y = np.array(sess.run(get_y))\n",
    "        sess.run(optimizer,feed_dict={a:batch_x,b_true:batch_y}) #,keep_prob:0.5\n",
    "        if i%30 == 0:\n",
    "            val_pred = sess.run(y_pred_cls, feed_dict = {a:vald,b_true:cfgt})\n",
    "            print(\"Results from step: {}\".format(i))\n",
    "            matches = tf.equal(y_pred_cls,b_true_cls)\n",
    "            acc = tf.reduce_mean(tf.cast(matches,tf.float32))\n",
    "            acc2 = sess.run(acc,feed_dict={a:batch_x,b_true:batch_y}) #,keep_prob:1.0\n",
    "            print('{} is the accuracy on training set'.format(acc2))\n",
    "            print('{} is the accuracy on validation set'.format(accuracy_score(y_val, val_pred)))\n",
    "            accuracy_list.append(acc2)\n",
    "    \n",
    "    saver.save(sess, 'C:/Users/sidew/Desktop/New folder/models/model-1')"
   ]
  },
  {
   "cell_type": "code",
   "execution_count": 37,
   "metadata": {},
   "outputs": [
    {
     "name": "stdout",
     "output_type": "stream",
     "text": [
      "WARNING:tensorflow:From C:\\Users\\sidew\\Anaconda3\\lib\\site-packages\\tensorflow\\python\\training\\saver.py:1266: checkpoint_exists (from tensorflow.python.training.checkpoint_management) is deprecated and will be removed in a future version.\n",
      "Instructions for updating:\n",
      "Use standard file APIs to check for files with this prefix.\n",
      "INFO:tensorflow:Restoring parameters from C:/Users/sidew/Desktop/New folder/models/model-1\n"
     ]
    }
   ],
   "source": [
    "sess = tf.Session()\n",
    "saver = tf.train.import_meta_graph('C:/Users/sidew/Desktop/New folder/models/model-1.meta')\n",
    "saver.restore(sess,tf.train.latest_checkpoint('C:/Users/sidew/Desktop/New folder/models/'))"
   ]
  },
  {
   "cell_type": "code",
   "execution_count": 38,
   "metadata": {},
   "outputs": [
    {
     "data": {
      "text/plain": [
       "array([0, 0, 0, ..., 0, 0, 1], dtype=int64)"
      ]
     },
     "execution_count": 38,
     "metadata": {},
     "output_type": "execute_result"
    }
   ],
   "source": [
    "shape_test = len(X_test)\n",
    "tes = X_test.reshape([shape_test,19200])\n",
    "tes_pred = sess.run(y_pred_cls, feed_dict = {a:tes,b_true:cfgt})\n",
    "tes_pred"
   ]
  },
  {
   "cell_type": "code",
   "execution_count": 39,
   "metadata": {},
   "outputs": [
    {
     "name": "stdout",
     "output_type": "stream",
     "text": [
      "0.9791666666666666\n"
     ]
    }
   ],
   "source": [
    "print(accuracy_score(y_test, tes_pred))"
   ]
  },
  {
   "cell_type": "code",
   "execution_count": 40,
   "metadata": {},
   "outputs": [
    {
     "data": {
      "text/plain": [
       "[[<matplotlib.axis.YTick at 0x224825e9cc0>,\n",
       "  <matplotlib.axis.YTick at 0x224825e95f8>],\n",
       " Text(0,0.5,'True label'),\n",
       " [<matplotlib.axis.XTick at 0x2248b99cf60>,\n",
       "  <matplotlib.axis.XTick at 0x2248b99c860>],\n",
       " Text(0.5,0,'Predicted label')]"
      ]
     },
     "execution_count": 40,
     "metadata": {},
     "output_type": "execute_result"
    },
    {
     "data": {
      "image/png": "[encoded data removed]",
      "text/plain": [
       "<Figure size 432x288 with 2 Axes>"
      ]
     },
     "metadata": {
      "needs_background": "light"
     },
     "output_type": "display_data"
    }
   ],
   "source": [
    "from sklearn.metrics import confusion_matrix\n",
    "cm = confusion_matrix(y_test, tes_pred)\n",
    "fig, ax = plt.subplots()\n",
    "im = ax.imshow(cm, cmap=plt.cm.Blues)\n",
    "ax.figure.colorbar(im, ax=ax)\n",
    "ax.set(xticks=np.arange(cm.shape[1]), yticks=np.arange(cm.shape[0]), ylabel='True label',xlabel='Predicted label')"
   ]
  },
  {
   "cell_type": "code",
   "execution_count": 42,
   "metadata": {},
   "outputs": [
    {
     "data": {
      "text/plain": [
       "array([[899,   1],\n",
       "       [ 24, 276]], dtype=int64)"
      ]
     },
     "execution_count": 42,
     "metadata": {},
     "output_type": "execute_result"
    }
   ],
   "source": [
    "cm"
   ]
  },
  {
   "cell_type": "code",
   "execution_count": 41,
   "metadata": {},
   "outputs": [
    {
     "name": "stdout",
     "output_type": "stream",
     "text": [
      "             precision    recall  f1-score   support\n",
      "\n",
      "    class 0       0.97      1.00      0.99       900\n",
      "    class 1       1.00      0.92      0.96       300\n",
      "\n",
      "avg / total       0.98      0.98      0.98      1200\n",
      "\n"
     ]
    }
   ],
   "source": [
    "from sklearn.metrics import classification_report\n",
    "target_names = ['class 0', 'class 1']\n",
    "repo = classification_report(y_test, tes_pred, target_names=target_names)\n",
    "print(repo)"
   ]
  },
  {
   "cell_type": "code",
   "execution_count": 124,
   "metadata": {},
   "outputs": [],
   "source": [
    "def plot_conv_weights(weights, input_channel=0):\n",
    "    # Assume weights are TensorFlow ops for 4-dim variables\n",
    "    # e.g. weights_conv1 or weights_conv2.\n",
    "    \n",
    "    # Retrieve the values of the weight-variables from TensorFlow.\n",
    "    # A feed-dict is not necessary because nothing is calculated.\n",
    "    w = sess.run(weights)\n",
    "\n",
    "    # Get the lowest and highest values for the weights.\n",
    "    # This is used to correct the colour intensity across\n",
    "    # the images so they can be compared with each other.\n",
    "    w_min = np.min(w)\n",
    "    w_max = np.max(w)\n",
    "\n",
    "    # Number of filters used in the conv. layer.\n",
    "    num_filters = w.shape[3]\n",
    "\n",
    "    # Number of grids to plot.\n",
    "    # Rounded-up, square-root of the number of filters.\n",
    "    num_grids = math.ceil(math.sqrt(num_filters))\n",
    "    \n",
    "    # Create figure with a grid of sub-plots.\n",
    "    fig, axes = plt.subplots(num_grids, num_grids)\n",
    "\n",
    "    # Plot all the filter-weights.\n",
    "    for i, ax in enumerate(axes.flat):\n",
    "        # Only plot the valid filter-weights.\n",
    "        if i<num_filters:\n",
    "            # Get the weights for the i'th filter of the input channel.\n",
    "            # See new_conv_layer() for details on the format\n",
    "            # of this 4-dim tensor.\n",
    "            img = w[:, :, input_channel, i]\n",
    "\n",
    "            # Plot image.\n",
    "            ax.imshow(img, vmin=w_min, vmax=w_max,\n",
    "                      interpolation='nearest', cmap='seismic')\n",
    "        \n",
    "        # Remove ticks from the plot.\n",
    "        ax.set_xticks([])\n",
    "        ax.set_yticks([])\n",
    "    \n",
    "    # Ensure the plot is shown correctly with multiple plots\n",
    "    # in a single Notebook cell.\n",
    "    plt.show()"
   ]
  },
  {
   "cell_type": "code",
   "execution_count": 141,
   "metadata": {},
   "outputs": [
    {
     "data": {
      "image/png": "[encoded data removed]",
      "text/plain": [
       "<Figure size 432x288 with 36 Axes>"
      ]
     },
     "metadata": {},
     "output_type": "display_data"
    }
   ],
   "source": [
    "plot_conv_weights(weights=weights_conv2)"
   ]
  },
  {
   "cell_type": "code",
   "execution_count": 142,
   "metadata": {},
   "outputs": [],
   "source": [
    "sess.close()"
   ]
  },
  {
   "cell_type": "markdown",
   "metadata": {},
   "source": [
    "# KERAS CNN WITH SGD OPTIMIZER AND NORMALIZED"
   ]
  },
  {
   "cell_type": "code",
   "execution_count": 43,
   "metadata": {},
   "outputs": [],
   "source": [
    "k_x = x\n",
    "k_y = y"
   ]
  },
  {
   "cell_type": "code",
   "execution_count": 44,
   "metadata": {},
   "outputs": [
    {
     "name": "stdout",
     "output_type": "stream",
     "text": [
      "(4000, 80, 80, 3)\n",
      "(4000,)\n"
     ]
    }
   ],
   "source": [
    "k_x = k_x.reshape([-1,80,80,3])\n",
    "print(k_x.shape)\n",
    "print(k_y.shape)"
   ]
  },
  {
   "cell_type": "code",
   "execution_count": 45,
   "metadata": {},
   "outputs": [],
   "source": [
    "k_x_train, k_x_test, k_y_train, k_y_test = train_test_split(k_x, k_y, test_size=0.3, random_state=7)"
   ]
  },
  {
   "cell_type": "code",
   "execution_count": null,
   "metadata": {},
   "outputs": [],
   "source": [
    "print(len(k_y_train))\n",
    "print(np.sum(k_y_train == 1))\n",
    "print(np.sum(k_y_train == 0))\n",
    "# print(len(k_y_val))\n",
    "# print(np.sum(k_y_val == 1))\n",
    "# print(np.sum(k_y_val == 0))\n",
    "print(len(k_y_test))\n",
    "print(np.sum(k_y_test == 1))\n",
    "print(np.sum(k_y_test == 0))"
   ]
  },
  {
   "cell_type": "code",
   "execution_count": 46,
   "metadata": {},
   "outputs": [],
   "source": [
    "k_x_train = k_x_train.astype('float32')\n",
    "k_x_test = k_x_test.astype('float32')\n",
    "k_x_train/= 255.0\n",
    "k_x_test/= 255.0"
   ]
  },
  {
   "cell_type": "code",
   "execution_count": 47,
   "metadata": {},
   "outputs": [],
   "source": [
    "k_y_train = to_categorical(k_y_train)\n",
    "k_y_test = to_categorical(k_y_test)"
   ]
  },
  {
   "cell_type": "code",
   "execution_count": 48,
   "metadata": {},
   "outputs": [
    {
     "name": "stdout",
     "output_type": "stream",
     "text": [
      "WARNING:tensorflow:From C:\\Users\\sidew\\Anaconda3\\lib\\site-packages\\keras\\backend\\tensorflow_backend.py:3445: calling dropout (from tensorflow.python.ops.nn_ops) with keep_prob is deprecated and will be removed in a future version.\n",
      "Instructions for updating:\n",
      "Please use `rate` instead of `keep_prob`. Rate should be set to `rate = 1 - keep_prob`.\n",
      "WARNING:tensorflow:From C:\\Users\\sidew\\Anaconda3\\lib\\site-packages\\tensorflow\\python\\ops\\math_ops.py:3066: to_int32 (from tensorflow.python.ops.math_ops) is deprecated and will be removed in a future version.\n",
      "Instructions for updating:\n",
      "Use tf.cast instead.\n",
      "Train on 2800 samples, validate on 1200 samples\n",
      "Epoch 1/10\n",
      "2800/2800 [==============================] - 228s 82ms/step - loss: 0.4724 - acc: 0.7979 - val_loss: 0.3625 - val_acc: 0.8583\n",
      "Epoch 2/10\n",
      "2800/2800 [==============================] - 224s 80ms/step - loss: 0.3421 - acc: 0.8604 - val_loss: 0.3408 - val_acc: 0.8758\n",
      "Epoch 3/10\n",
      "2800/2800 [==============================] - 225s 80ms/step - loss: 0.2762 - acc: 0.8779 - val_loss: 0.2677 - val_acc: 0.9125\n",
      "Epoch 4/10\n",
      "2800/2800 [==============================] - 223s 80ms/step - loss: 0.2369 - acc: 0.8996 - val_loss: 0.2511 - val_acc: 0.9117\n",
      "Epoch 5/10\n",
      "2800/2800 [==============================] - 221s 79ms/step - loss: 0.2187 - acc: 0.9054 - val_loss: 0.2615 - val_acc: 0.9008\n",
      "Epoch 6/10\n",
      "2800/2800 [==============================] - 227s 81ms/step - loss: 0.1802 - acc: 0.9218 - val_loss: 0.1710 - val_acc: 0.9408\n",
      "Epoch 7/10\n",
      "2800/2800 [==============================] - 222s 79ms/step - loss: 0.1518 - acc: 0.9429 - val_loss: 0.1436 - val_acc: 0.9475\n",
      "Epoch 8/10\n",
      "2800/2800 [==============================] - 223s 80ms/step - loss: 0.1322 - acc: 0.9496 - val_loss: 0.1217 - val_acc: 0.9583\n",
      "Epoch 9/10\n",
      "2800/2800 [==============================] - 223s 80ms/step - loss: 0.1059 - acc: 0.9629 - val_loss: 0.0889 - val_acc: 0.9658\n",
      "Epoch 10/10\n",
      "2800/2800 [==============================] - 224s 80ms/step - loss: 0.0953 - acc: 0.9682 - val_loss: 0.0812 - val_acc: 0.9767\n"
     ]
    }
   ],
   "source": [
    "new_model = Sequential()\n",
    "\n",
    "new_model.add(Conv2D(64, kernel_size=(3, 3), activation = 'relu', input_shape = (80,80,3)))\n",
    "new_model.add(Dropout(0.20))\n",
    "\n",
    "new_model.add(Conv2D(64, (3, 3), activation='relu'))\n",
    "new_model.add(Dropout(0.20))\n",
    "\n",
    "new_model.add(Conv2D(64, (3, 3), activation='relu'))\n",
    "new_model.add(Dropout(0.20))\n",
    "\n",
    "new_model.add(Flatten())\n",
    "new_model.add(Dense(64,activation='relu'))\n",
    "new_model.add(Dropout(0.20))\n",
    "new_model.add(Dense(num_classes, activation='softmax'))\n",
    "\n",
    "#compile model\n",
    "new_model.compile(loss='categorical_crossentropy',optimizer='sgd',metrics=['accuracy'])\n",
    "\n",
    "#fit the model\n",
    "history= new_model.fit(k_x_train, k_y_train, validation_data=(k_x_test, k_y_test), epochs=10, batch_size=32, verbose=1)"
   ]
  },
  {
   "cell_type": "code",
   "execution_count": 54,
   "metadata": {},
   "outputs": [],
   "source": [
    "sgd_with_stratify = new_model.to_json()\n",
    "with open(\"sws.json\", \"w\") as json_file:\n",
    "    json_file.write(sgd_without_stratify)\n",
    "new_model.save_weights(\"sws.h5\")"
   ]
  },
  {
   "cell_type": "code",
   "execution_count": 58,
   "metadata": {},
   "outputs": [],
   "source": [
    "json_file = open('sws.json', 'r')\n",
    "loaded_model_json = json_file.read()\n",
    "json_file.close()\n",
    "loaded_model = model_from_json(loaded_model_json)\n",
    "loaded_model.load_weights(\"sws.h5\")"
   ]
  },
  {
   "cell_type": "code",
   "execution_count": 66,
   "metadata": {},
   "outputs": [
    {
     "data": {
      "text/plain": [
       "0.9766666666666667"
      ]
     },
     "execution_count": 66,
     "metadata": {},
     "output_type": "execute_result"
    }
   ],
   "source": [
    "xdf = loaded_model.predict(k_x_test)\n",
    "ftyu = np.argmax(xdf, axis = 1)\n",
    "accuracy_score(ftyu, np.argmax(k_y_test, axis = 1))"
   ]
  },
  {
   "cell_type": "markdown",
   "metadata": {},
   "source": [
    "# KERAS CNN WITH ADAM OPTIMIZER AND DIFFERENT STRUCTURE"
   ]
  },
  {
   "cell_type": "code",
   "execution_count": 67,
   "metadata": {},
   "outputs": [],
   "source": [
    "model = Sequential()\n",
    "\n",
    "model.add(Conv2D(32, kernel_size=3, activation = 'relu', input_shape=(80,80,3)))\n",
    "model.add(MaxPooling2D(pool_size=(2, 2), strides=(2, 2)))\n",
    "model.add(Conv2D(32, kernel_size=3, activation= 'relu'))\n",
    "model.add(MaxPooling2D(pool_size=(2, 2), strides=(2, 2)))\n",
    "model.add(Conv2D(64, kernel_size=3, activation= 'relu'))\n",
    "model.add(MaxPooling2D(pool_size=(2, 2), strides=(2, 2)))\n",
    "model.add(Flatten())\n",
    "model.add(Dense(1000, activation='relu'))\n",
    "model.add(Dense(num_classes, activation='softmax'))"
   ]
  },
  {
   "cell_type": "code",
   "execution_count": 68,
   "metadata": {},
   "outputs": [
    {
     "name": "stdout",
     "output_type": "stream",
     "text": [
      "Train on 2800 samples, validate on 1200 samples\n",
      "Epoch 1/15\n",
      "2800/2800 [==============================] - 34s 12ms/step - loss: 0.3096 - acc: 0.8846 - val_loss: 0.2058 - val_acc: 0.9133\n",
      "Epoch 2/15\n",
      "2800/2800 [==============================] - 31s 11ms/step - loss: 0.1589 - acc: 0.9432 - val_loss: 0.1846 - val_acc: 0.9267\n",
      "Epoch 3/15\n",
      "2800/2800 [==============================] - 31s 11ms/step - loss: 0.1136 - acc: 0.9604 - val_loss: 0.0775 - val_acc: 0.9733\n",
      "Epoch 4/15\n",
      "2800/2800 [==============================] - 31s 11ms/step - loss: 0.0651 - acc: 0.9786 - val_loss: 0.0666 - val_acc: 0.9808\n",
      "Epoch 5/15\n",
      "2800/2800 [==============================] - 31s 11ms/step - loss: 0.0419 - acc: 0.9846 - val_loss: 0.0803 - val_acc: 0.9708\n",
      "Epoch 6/15\n",
      "2800/2800 [==============================] - 31s 11ms/step - loss: 0.0375 - acc: 0.9868 - val_loss: 0.0445 - val_acc: 0.9842\n",
      "Epoch 7/15\n",
      "2800/2800 [==============================] - 31s 11ms/step - loss: 0.0189 - acc: 0.9946 - val_loss: 0.0258 - val_acc: 0.9892\n",
      "Epoch 8/15\n",
      "2800/2800 [==============================] - 31s 11ms/step - loss: 0.0155 - acc: 0.9950 - val_loss: 0.0465 - val_acc: 0.9833\n",
      "Epoch 9/15\n",
      "2800/2800 [==============================] - 31s 11ms/step - loss: 0.0177 - acc: 0.9946 - val_loss: 0.0266 - val_acc: 0.9883\n",
      "Epoch 10/15\n",
      "2800/2800 [==============================] - 32s 11ms/step - loss: 0.0232 - acc: 0.9914 - val_loss: 0.0406 - val_acc: 0.9867\n",
      "Epoch 11/15\n",
      "2800/2800 [==============================] - 32s 11ms/step - loss: 0.0098 - acc: 0.9964 - val_loss: 0.1102 - val_acc: 0.9683\n",
      "Epoch 12/15\n",
      "2800/2800 [==============================] - 26s 9ms/step - loss: 0.0161 - acc: 0.9943 - val_loss: 0.0501 - val_acc: 0.9808\n",
      "Epoch 13/15\n",
      "2800/2800 [==============================] - 15s 5ms/step - loss: 0.0223 - acc: 0.9939 - val_loss: 0.0347 - val_acc: 0.9900\n",
      "Epoch 14/15\n",
      "2800/2800 [==============================] - 15s 5ms/step - loss: 0.0058 - acc: 0.9975 - val_loss: 0.0248 - val_acc: 0.9925\n",
      "Epoch 15/15\n",
      "2800/2800 [==============================] - 15s 5ms/step - loss: 0.0011 - acc: 1.0000 - val_loss: 0.0235 - val_acc: 0.9917\n"
     ]
    },
    {
     "data": {
      "text/plain": [
       "<keras.callbacks.History at 0x224cab87be0>"
      ]
     },
     "execution_count": 68,
     "metadata": {},
     "output_type": "execute_result"
    }
   ],
   "source": [
    "model.compile(optimizer='Adam', loss='categorical_crossentropy', metrics=['accuracy'])\n",
    "model.fit(k_x_train, k_y_train,\n",
    "          batch_size=30,\n",
    "          epochs=15,\n",
    "          verbose=1,\n",
    "          validation_data=(k_x_test, k_y_test))"
   ]
  },
  {
   "cell_type": "code",
   "execution_count": 69,
   "metadata": {},
   "outputs": [],
   "source": [
    "adam_without_stratify = model.to_json()\n",
    "with open(\"aws.json\", \"w\") as json_file:\n",
    "    json_file.write(adam_without_stratify)\n",
    "model.save_weights(\"aws.h5\")"
   ]
  },
  {
   "cell_type": "code",
   "execution_count": 84,
   "metadata": {},
   "outputs": [],
   "source": [
    "json_file = open('aws.json', 'r')\n",
    "loaded_model_json = json_file.read()\n",
    "json_file.close()\n",
    "loaded_model = model_from_json(loaded_model_json)\n",
    "loaded_model.load_weights(\"aws.h5\")"
   ]
  },
  {
   "cell_type": "code",
   "execution_count": 85,
   "metadata": {},
   "outputs": [
    {
     "data": {
      "text/plain": [
       "0.9916666666666667"
      ]
     },
     "execution_count": 85,
     "metadata": {},
     "output_type": "execute_result"
    }
   ],
   "source": [
    "xdf = loaded_model.predict(k_x_test)\n",
    "ftyu = np.argmax(xdf, axis = 1)\n",
    "accuracy_score(ftyu, np.argmax(k_y_test, axis = 1))"
   ]
  },
  {
   "cell_type": "code",
   "execution_count": 72,
   "metadata": {},
   "outputs": [],
   "source": []
  },
  {
   "cell_type": "code",
   "execution_count": 81,
   "metadata": {},
   "outputs": [],
   "source": []
  },
  {
   "cell_type": "markdown",
   "metadata": {},
   "source": [
    "# Extracting features from the Convolution Layer"
   ]
  },
  {
   "cell_type": "code",
   "execution_count": 88,
   "metadata": {},
   "outputs": [],
   "source": [
    "#The Ninth layer in the Keras CNN has the probability scores for each of the classes. Hence this output needs to be extracted\n",
    "#in order to train other algorithms\n",
    "\n",
    "from keras.models import Model\n",
    "extract = Model(new_model.layers[0].input, new_model.layers[9].output)"
   ]
  },
  {
   "cell_type": "code",
   "execution_count": 89,
   "metadata": {},
   "outputs": [],
   "source": [
    "#Creating a dataframe of the probability values for the two classes along with the actual labels\n",
    "\n",
    "features = extract.predict(k_x_train)\n",
    "a,b = zip(*features)\n",
    "extract_y_train = np.argmax(k_y_train, axis = 1)\n",
    "a = list(a)\n",
    "b = list(b)\n",
    "d = {'a':a,'b':b,'y': extract_y_train}\n",
    "df_train = pd.DataFrame(d)"
   ]
  },
  {
   "cell_type": "code",
   "execution_count": 90,
   "metadata": {},
   "outputs": [
    {
     "data": {
      "text/html": [
       "<div>\n",
       "<style scoped>\n",
       "    .dataframe tbody tr th:only-of-type {\n",
       "        vertical-align: middle;\n",
       "    }\n",
       "\n",
       "    .dataframe tbody tr th {\n",
       "        vertical-align: top;\n",
       "    }\n",
       "\n",
       "    .dataframe thead th {\n",
       "        text-align: right;\n",
       "    }\n",
       "</style>\n",
       "<table border=\"1\" class=\"dataframe\">\n",
       "  <thead>\n",
       "    <tr style=\"text-align: right;\">\n",
       "      <th></th>\n",
       "      <th>a</th>\n",
       "      <th>b</th>\n",
       "      <th>y</th>\n",
       "    </tr>\n",
       "  </thead>\n",
       "  <tbody>\n",
       "    <tr>\n",
       "      <th>0</th>\n",
       "      <td>0.976469</td>\n",
       "      <td>0.023530</td>\n",
       "      <td>0</td>\n",
       "    </tr>\n",
       "    <tr>\n",
       "      <th>1</th>\n",
       "      <td>0.995936</td>\n",
       "      <td>0.004064</td>\n",
       "      <td>0</td>\n",
       "    </tr>\n",
       "    <tr>\n",
       "      <th>2</th>\n",
       "      <td>0.000939</td>\n",
       "      <td>0.999061</td>\n",
       "      <td>1</td>\n",
       "    </tr>\n",
       "    <tr>\n",
       "      <th>3</th>\n",
       "      <td>0.999932</td>\n",
       "      <td>0.000068</td>\n",
       "      <td>0</td>\n",
       "    </tr>\n",
       "    <tr>\n",
       "      <th>4</th>\n",
       "      <td>0.998583</td>\n",
       "      <td>0.001417</td>\n",
       "      <td>0</td>\n",
       "    </tr>\n",
       "  </tbody>\n",
       "</table>\n",
       "</div>"
      ],
      "text/plain": [
       "          a         b  y\n",
       "0  0.976469  0.023530  0\n",
       "1  0.995936  0.004064  0\n",
       "2  0.000939  0.999061  1\n",
       "3  0.999932  0.000068  0\n",
       "4  0.998583  0.001417  0"
      ]
     },
     "execution_count": 90,
     "metadata": {},
     "output_type": "execute_result"
    }
   ],
   "source": [
    "df_train.head()"
   ]
  },
  {
   "cell_type": "code",
   "execution_count": 91,
   "metadata": {},
   "outputs": [],
   "source": [
    "# Performing the same operations on the test data too\n",
    "\n",
    "features_test = extract.predict(k_x_test)\n",
    "r,t = zip(*features_test)\n",
    "extract_y_test = np.argmax(k_y_test, axis = 1)\n",
    "r = list(r)\n",
    "t = list(t)\n",
    "d_test = {'a':r,'b':t, 'y':extract_y_test}\n",
    "df_test = pd.DataFrame(d_test)"
   ]
  },
  {
   "cell_type": "code",
   "execution_count": 143,
   "metadata": {},
   "outputs": [
    {
     "data": {
      "text/html": [
       "<div>\n",
       "<style scoped>\n",
       "    .dataframe tbody tr th:only-of-type {\n",
       "        vertical-align: middle;\n",
       "    }\n",
       "\n",
       "    .dataframe tbody tr th {\n",
       "        vertical-align: top;\n",
       "    }\n",
       "\n",
       "    .dataframe thead th {\n",
       "        text-align: right;\n",
       "    }\n",
       "</style>\n",
       "<table border=\"1\" class=\"dataframe\">\n",
       "  <thead>\n",
       "    <tr style=\"text-align: right;\">\n",
       "      <th></th>\n",
       "      <th>a</th>\n",
       "      <th>b</th>\n",
       "      <th>y</th>\n",
       "    </tr>\n",
       "  </thead>\n",
       "  <tbody>\n",
       "    <tr>\n",
       "      <th>0</th>\n",
       "      <td>0.999952</td>\n",
       "      <td>0.000048</td>\n",
       "      <td>0</td>\n",
       "    </tr>\n",
       "    <tr>\n",
       "      <th>1</th>\n",
       "      <td>0.000220</td>\n",
       "      <td>0.999780</td>\n",
       "      <td>1</td>\n",
       "    </tr>\n",
       "    <tr>\n",
       "      <th>2</th>\n",
       "      <td>0.008845</td>\n",
       "      <td>0.991155</td>\n",
       "      <td>1</td>\n",
       "    </tr>\n",
       "    <tr>\n",
       "      <th>3</th>\n",
       "      <td>0.999948</td>\n",
       "      <td>0.000052</td>\n",
       "      <td>0</td>\n",
       "    </tr>\n",
       "    <tr>\n",
       "      <th>4</th>\n",
       "      <td>0.000433</td>\n",
       "      <td>0.999567</td>\n",
       "      <td>1</td>\n",
       "    </tr>\n",
       "  </tbody>\n",
       "</table>\n",
       "</div>"
      ],
      "text/plain": [
       "          a         b  y\n",
       "0  0.999952  0.000048  0\n",
       "1  0.000220  0.999780  1\n",
       "2  0.008845  0.991155  1\n",
       "3  0.999948  0.000052  0\n",
       "4  0.000433  0.999567  1"
      ]
     },
     "execution_count": 143,
     "metadata": {},
     "output_type": "execute_result"
    }
   ],
   "source": [
    "df_test.head()"
   ]
  },
  {
   "cell_type": "code",
   "execution_count": 93,
   "metadata": {},
   "outputs": [],
   "source": [
    "# Specifying the Predictors and Target variables for train and test\n",
    "\n",
    "e_x_train = df_train[['a','b']]\n",
    "e_y_train = df_train['y']\n",
    "e_x_test = df_test[['a','b']]\n",
    "e_y_test = df_test['y']"
   ]
  },
  {
   "cell_type": "markdown",
   "metadata": {},
   "source": [
    "# RANDOM FOREST WITH FEATURES EXTRACTED FROM CNN"
   ]
  },
  {
   "cell_type": "code",
   "execution_count": 94,
   "metadata": {},
   "outputs": [
    {
     "name": "stdout",
     "output_type": "stream",
     "text": [
      "Accuracy on training set :  0.9985714285714286\n",
      "Accuracy on test set :  0.9958333333333333\n",
      "best parameters: {'max_leaf_nodes': 12, 'n_estimators': 200}\n",
      "Best cross-validation score: 0.9935714285714285\n"
     ]
    }
   ],
   "source": [
    "random_forest = RandomForestClassifier(random_state = 12)\n",
    "grid = {'n_estimators' : [200,250,300], 'max_leaf_nodes' : range(12,16)}\n",
    "\n",
    "# count = 1\n",
    "# for g in ParameterGrid(grid):\n",
    "#     random_forest.set_params(**g)\n",
    "#     random_forest.fit(extracted_X_train, extracted_y_train)\n",
    "#     print(count)\n",
    "#     print('/n')\n",
    "#     print('Accuracy on training set : ', random_forest.score(extracted_X_train, extracted_y_train))\n",
    "#     print('Accuracy on validation set : ', random_forest.score(extracted_X_val, extracted_y_val))\n",
    "#     print('Accuracy on test set : ', random_forest.score(extracted_X_test, extracted_y_test))\n",
    "#     print('/n')\n",
    "#     count += 1\n",
    "\n",
    "\n",
    "\n",
    "Grid_forest = GridSearchCV(random_forest, grid, n_jobs = -1, cv = 5, scoring = 'accuracy')\n",
    "Grid_forest.fit(e_x_train, e_y_train)\n",
    "\n",
    "print('Accuracy on training set : ', Grid_forest.score(e_x_train, e_y_train))\n",
    "print('Accuracy on test set : ', Grid_forest.score(e_x_test, e_y_test))\n",
    "\n",
    "print('best parameters:', Grid_forest.best_params_)\n",
    "print('Best cross-validation score:', Grid_forest.best_score_)"
   ]
  },
  {
   "cell_type": "code",
   "execution_count": 182,
   "metadata": {},
   "outputs": [],
   "source": [
    "rf_pred = Grid_forest.predict(e_x_test)"
   ]
  },
  {
   "cell_type": "code",
   "execution_count": 183,
   "metadata": {},
   "outputs": [
    {
     "data": {
      "text/plain": [
       "[[<matplotlib.axis.YTick at 0x22529ef3a58>,\n",
       "  <matplotlib.axis.YTick at 0x22529ef3390>],\n",
       " Text(0,0.5,'True label'),\n",
       " [<matplotlib.axis.XTick at 0x22529ee7cf8>,\n",
       "  <matplotlib.axis.XTick at 0x22529ee7630>],\n",
       " Text(0.5,0,'Predicted label')]"
      ]
     },
     "execution_count": 183,
     "metadata": {},
     "output_type": "execute_result"
    },
    {
     "data": {
      "image/png": "[encoded data removed]",
      "text/plain": [
       "<Figure size 432x288 with 2 Axes>"
      ]
     },
     "metadata": {
      "needs_background": "light"
     },
     "output_type": "display_data"
    }
   ],
   "source": [
    "#Creating a confusion matrix and plotting it. The variations in numbers is depicted by different shades of colour\n",
    "#A darker shade indicates higher number\n",
    "\n",
    "cm4 = confusion_matrix(e_y_test, rf_pred)\n",
    "fig, ax = plt.subplots()\n",
    "im = ax.imshow(cm4, cmap=plt.cm.Blues)\n",
    "ax.figure.colorbar(im, ax=ax)\n",
    "ax.set(xticks=np.arange(cm4.shape[1]), yticks=np.arange(cm4.shape[0]), ylabel='True label',xlabel='Predicted label')"
   ]
  },
  {
   "cell_type": "code",
   "execution_count": 184,
   "metadata": {},
   "outputs": [
    {
     "data": {
      "text/plain": [
       "array([[895,   2],\n",
       "       [  3, 300]], dtype=int64)"
      ]
     },
     "execution_count": 184,
     "metadata": {},
     "output_type": "execute_result"
    }
   ],
   "source": [
    "cm4"
   ]
  },
  {
   "cell_type": "markdown",
   "metadata": {},
   "source": [
    "# SVM WITH FEATURES EXTRACTED FROM CNN"
   ]
  },
  {
   "cell_type": "code",
   "execution_count": 96,
   "metadata": {},
   "outputs": [
    {
     "name": "stdout",
     "output_type": "stream",
     "text": [
      "SVM training set score:  0.995\n",
      "SVM test set score:  0.9958333333333333\n",
      "SVM best parameters:  {'C': 10, 'gamma': 10}\n",
      "Best cross-validation score: 0.9942857142857143\n"
     ]
    }
   ],
   "source": [
    "SVM_model = SVC(kernel = 'rbf', probability=True)\n",
    "SVM_parameters = {'C': [1,10,100,1000,10000],'gamma':[0.0001,0.001,0.1,1,10]}\n",
    "\n",
    "grid_svm = GridSearchCV(SVM_model, SVM_parameters, cv=5, n_jobs=-1, scoring='accuracy')\n",
    "grid_svm.fit(e_x_train, e_y_train)\n",
    "\n",
    "print('SVM training set score: ', grid_svm.score(e_x_train, e_y_train))\n",
    "print('SVM test set score: ', grid_svm.score(e_x_test, e_y_test))\n",
    "\n",
    "\n",
    "print('SVM best parameters: ', grid_svm.best_params_)\n",
    "print('Best cross-validation score:', grid_svm.best_score_)"
   ]
  },
  {
   "cell_type": "code",
   "execution_count": 178,
   "metadata": {},
   "outputs": [],
   "source": [
    "svm_pred = grid_svm.predict(e_x_test)"
   ]
  },
  {
   "cell_type": "code",
   "execution_count": 180,
   "metadata": {},
   "outputs": [
    {
     "data": {
      "text/plain": [
       "[[<matplotlib.axis.YTick at 0x22529e67c18>,\n",
       "  <matplotlib.axis.YTick at 0x22529e674e0>],\n",
       " Text(0,0.5,'True label'),\n",
       " [<matplotlib.axis.XTick at 0x2248bdcfe10>,\n",
       "  <matplotlib.axis.XTick at 0x2248bdcf748>],\n",
       " Text(0.5,0,'Predicted label')]"
      ]
     },
     "execution_count": 180,
     "metadata": {},
     "output_type": "execute_result"
    },
    {
     "data": {
      "image/png": "[encoded data removed]",
      "text/plain": [
       "<Figure size 432x288 with 2 Axes>"
      ]
     },
     "metadata": {
      "needs_background": "light"
     },
     "output_type": "display_data"
    }
   ],
   "source": [
    "cm3 = confusion_matrix(e_y_test, svm_pred)\n",
    "fig, ax = plt.subplots()\n",
    "im = ax.imshow(cm3, cmap=plt.cm.Blues)\n",
    "ax.figure.colorbar(im, ax=ax)\n",
    "ax.set(xticks=np.arange(cm3.shape[1]), yticks=np.arange(cm3.shape[0]), ylabel='True label',xlabel='Predicted label')"
   ]
  },
  {
   "cell_type": "code",
   "execution_count": 181,
   "metadata": {},
   "outputs": [
    {
     "data": {
      "text/plain": [
       "array([[896,   1],\n",
       "       [  4, 299]], dtype=int64)"
      ]
     },
     "execution_count": 181,
     "metadata": {},
     "output_type": "execute_result"
    }
   ],
   "source": [
    "cm3"
   ]
  },
  {
   "cell_type": "markdown",
   "metadata": {},
   "source": [
    "# LOGISTIC REGRESSION USING FEATURES EXTRACTED FROM CNN"
   ]
  },
  {
   "cell_type": "code",
   "execution_count": 97,
   "metadata": {},
   "outputs": [
    {
     "name": "stdout",
     "output_type": "stream",
     "text": [
      "Training set score:  0.9939285714285714\n",
      "Test set score:  0.9958333333333333\n"
     ]
    }
   ],
   "source": [
    "from sklearn.linear_model import LogisticRegression\n",
    "lr_model = LogisticRegression().fit(e_x_train, e_y_train)\n",
    "\n",
    "# print('LOGISTIC REGRESSION \\n')\n",
    "# print(\"logistic regression coefficients:\", lr_model.coef_)\n",
    "# print(\"logistic regression intercepts:\", lr_model.intercept_)\n",
    "\n",
    "print(\"Training set score: \", lr_model.score(e_x_train, e_y_train))\n",
    "print(\"Test set score: \", lr_model.score(e_x_test, e_y_test))"
   ]
  },
  {
   "cell_type": "code",
   "execution_count": 175,
   "metadata": {},
   "outputs": [],
   "source": [
    "lr_pred = lr_model.predict(e_x_test)"
   ]
  },
  {
   "cell_type": "code",
   "execution_count": 176,
   "metadata": {},
   "outputs": [
    {
     "data": {
      "text/plain": [
       "[[<matplotlib.axis.YTick at 0x2248c5bd9e8>,\n",
       "  <matplotlib.axis.YTick at 0x2248c5bd2b0>],\n",
       " Text(0,0.5,'True label'),\n",
       " [<matplotlib.axis.XTick at 0x2248c5b4be0>,\n",
       "  <matplotlib.axis.XTick at 0x2248c5b4518>],\n",
       " Text(0.5,0,'Predicted label')]"
      ]
     },
     "execution_count": 176,
     "metadata": {},
     "output_type": "execute_result"
    },
    {
     "data": {
      "image/png": "[encoded data removed]",
      "text/plain": [
       "<Figure size 432x288 with 2 Axes>"
      ]
     },
     "metadata": {
      "needs_background": "light"
     },
     "output_type": "display_data"
    }
   ],
   "source": [
    "cm2 = confusion_matrix(e_y_test, lr_pred)\n",
    "fig, ax = plt.subplots()\n",
    "im = ax.imshow(cm2, cmap=plt.cm.Blues)\n",
    "ax.figure.colorbar(im, ax=ax)\n",
    "ax.set(xticks=np.arange(cm2.shape[1]), yticks=np.arange(cm2.shape[0]), ylabel='True label',xlabel='Predicted label')"
   ]
  },
  {
   "cell_type": "code",
   "execution_count": 177,
   "metadata": {},
   "outputs": [
    {
     "data": {
      "text/plain": [
       "array([[895,   2],\n",
       "       [  3, 300]], dtype=int64)"
      ]
     },
     "execution_count": 177,
     "metadata": {},
     "output_type": "execute_result"
    }
   ],
   "source": [
    "cm2"
   ]
  },
  {
   "cell_type": "code",
   "execution_count": null,
   "metadata": {},
   "outputs": [],
   "source": []
  },
  {
   "cell_type": "markdown",
   "metadata": {},
   "source": [
    "# DECISION TREE USING FEATURES EXTRACTED FROM CNN"
   ]
  },
  {
   "cell_type": "code",
   "execution_count": 98,
   "metadata": {},
   "outputs": [
    {
     "name": "stdout",
     "output_type": "stream",
     "text": [
      "\n",
      " DECISION TREE \n",
      "\n",
      "Accuracy on training set :  0.995\n",
      "Accuracy on test set :  0.9958333333333333\n",
      "best parameters: {'criterion': 'entropy', 'max_depth': 5, 'min_samples_leaf': 12, 'min_samples_split': 12}\n",
      "Best cross-validation score: 0.9939285714285714\n"
     ]
    }
   ],
   "source": [
    "from sklearn.tree import DecisionTreeClassifier\n",
    "optimal_tree = DecisionTreeClassifier(random_state = 13)\n",
    "tree_parameters = {'criterion' : [\"gini\",\"entropy\"],'max_depth' : range(5,16), 'min_samples_split' : range(12,20), \n",
    "              'min_samples_leaf' : range(12,20)}\n",
    "\n",
    "Grid_tree = GridSearchCV(optimal_tree, tree_parameters, n_jobs = -1, cv = 5, scoring = 'accuracy')\n",
    "Grid_tree.fit(e_x_train,e_y_train)\n",
    "\n",
    "print('\\n DECISION TREE \\n')\n",
    "print('Accuracy on training set : ', Grid_tree.score(e_x_train, e_y_train))\n",
    "print('Accuracy on test set : ', Grid_tree.score(e_x_test, e_y_test))\n",
    "\n",
    "print('best parameters:', Grid_tree.best_params_)\n",
    "print('Best cross-validation score:', Grid_tree.best_score_)"
   ]
  },
  {
   "cell_type": "code",
   "execution_count": 166,
   "metadata": {},
   "outputs": [],
   "source": [
    "tree_pred = Grid_tree.predict(e_x_test)"
   ]
  },
  {
   "cell_type": "code",
   "execution_count": 172,
   "metadata": {},
   "outputs": [
    {
     "data": {
      "text/plain": [
       "pandas.core.series.Series"
      ]
     },
     "execution_count": 172,
     "metadata": {},
     "output_type": "execute_result"
    }
   ],
   "source": [
    "type(e_y_test)"
   ]
  },
  {
   "cell_type": "code",
   "execution_count": 173,
   "metadata": {},
   "outputs": [
    {
     "data": {
      "text/plain": [
       "[[<matplotlib.axis.YTick at 0x2248c543208>,\n",
       "  <matplotlib.axis.YTick at 0x2248c53db00>],\n",
       " Text(0,0.5,'True label'),\n",
       " [<matplotlib.axis.XTick at 0x2248c53d4a8>,\n",
       "  <matplotlib.axis.XTick at 0x2248c535da0>],\n",
       " Text(0.5,0,'Predicted label')]"
      ]
     },
     "execution_count": 173,
     "metadata": {},
     "output_type": "execute_result"
    },
    {
     "data": {
      "image/png": "[encoded data removed]",
      "text/plain": [
       "<Figure size 432x288 with 2 Axes>"
      ]
     },
     "metadata": {
      "needs_background": "light"
     },
     "output_type": "display_data"
    }
   ],
   "source": [
    "cm1 = confusion_matrix(e_y_test, tree_pred)\n",
    "fig, ax = plt.subplots()\n",
    "im = ax.imshow(cm1, cmap=plt.cm.Blues)\n",
    "ax.figure.colorbar(im, ax=ax)\n",
    "ax.set(xticks=np.arange(cm1.shape[1]), yticks=np.arange(cm1.shape[0]), ylabel='True label',xlabel='Predicted label')"
   ]
  },
  {
   "cell_type": "code",
   "execution_count": 174,
   "metadata": {},
   "outputs": [
    {
     "data": {
      "text/plain": [
       "array([[896,   1],\n",
       "       [  4, 299]], dtype=int64)"
      ]
     },
     "execution_count": 174,
     "metadata": {},
     "output_type": "execute_result"
    }
   ],
   "source": [
    "cm1"
   ]
  },
  {
   "cell_type": "code",
   "execution_count": null,
   "metadata": {},
   "outputs": [],
   "source": []
  },
  {
   "cell_type": "code",
   "execution_count": 111,
   "metadata": {},
   "outputs": [
    {
     "data": {
      "text/plain": [
       "array([[9.9995196e-01, 4.8023900e-05],\n",
       "       [2.2034212e-04, 9.9977964e-01],\n",
       "       [8.8449894e-03, 9.9115503e-01],\n",
       "       ...,\n",
       "       [9.7957748e-01, 2.0422457e-02],\n",
       "       [9.8177207e-01, 1.8227890e-02],\n",
       "       [9.8564607e-01, 1.4353920e-02]], dtype=float32)"
      ]
     },
     "execution_count": 111,
     "metadata": {},
     "output_type": "execute_result"
    }
   ],
   "source": [
    "cnn_probabilities = new_model.predict(k_x_test)\n",
    "cnn_probabilities"
   ]
  },
  {
   "cell_type": "code",
   "execution_count": 121,
   "metadata": {},
   "outputs": [
    {
     "data": {
      "text/plain": [
       "Text(0.5,0,'1-specificity')"
      ]
     },
     "execution_count": 121,
     "metadata": {},
     "output_type": "execute_result"
    },
    {
     "data": {
      "image/png": "[encoded data removed]",
      "text/plain": [
       "<Figure size 432x288 with 1 Axes>"
      ]
     },
     "metadata": {
      "needs_background": "light"
     },
     "output_type": "display_data"
    }
   ],
   "source": [
    "probs = new_model.predict(k_x_test)\n",
    "preds = probs[:,1]\n",
    "fpr, tpr, threshold = roc_curve(e_y_test, preds)\n",
    "roc_auc = auc(fpr, tpr)\n",
    "plt.plot(fpr,tpr,label=\"auc=\"+str(roc_auc))\n",
    "plt.legend(loc=4)\n",
    "plt.ylabel('Recall')\n",
    "plt.xlabel('1-specificity')"
   ]
  },
  {
   "cell_type": "code",
   "execution_count": 119,
   "metadata": {},
   "outputs": [
    {
     "data": {
      "image/png": "[encoded data removed]",
      "text/plain": [
       "<Figure size 432x288 with 1 Axes>"
      ]
     },
     "metadata": {
      "needs_background": "light"
     },
     "output_type": "display_data"
    },
    {
     "data": {
      "image/png": "[encoded data removed]",
      "text/plain": [
       "<Figure size 432x288 with 1 Axes>"
      ]
     },
     "metadata": {
      "needs_background": "light"
     },
     "output_type": "display_data"
    },
    {
     "data": {
      "image/png": "[encoded data removed]",
      "text/plain": [
       "<Figure size 432x288 with 1 Axes>"
      ]
     },
     "metadata": {
      "needs_background": "light"
     },
     "output_type": "display_data"
    },
    {
     "data": {
      "image/png": "[encoded data removed]",
      "text/plain": [
       "<Figure size 432x288 with 1 Axes>"
      ]
     },
     "metadata": {
      "needs_background": "light"
     },
     "output_type": "display_data"
    }
   ],
   "source": [
    "from sklearn.metrics import precision_score, recall_score, accuracy_score, f1_score\n",
    "from sklearn.metrics import auc\n",
    "from sklearn.metrics import roc_curve\n",
    "models = [grid_svm.best_estimator_, lr_model, Grid_tree.best_estimator_, Grid_forest.best_estimator_]\n",
    "for model in models:\n",
    "    probs = model.predict_proba(e_x_test)\n",
    "    preds = probs[:,1]\n",
    "    fpr, tpr, threshold = roc_curve(e_y_test, preds)\n",
    "    roc_auc = auc(fpr, tpr)\n",
    "    plt.plot(fpr,tpr,label=\"auc=\"+str(roc_auc))\n",
    "    plt.legend(loc=4)\n",
    "    plt.ylabel('Recall')\n",
    "    plt.xlabel('1-specificity')\n",
    "    index = models.index(model)\n",
    "    plt.title('ROC Curve for ' + str(models[index]))\n",
    "    plt.show()"
   ]
  }
 ],
 "metadata": {
  "kernelspec": {
   "display_name": "Python 3",
   "language": "python",
   "name": "python3"
  },
  "language_info": {
   "codemirror_mode": {
    "name": "ipython",
    "version": 3
   },
   "file_extension": ".py",
   "mimetype": "text/x-python",
   "name": "python",
   "nbconvert_exporter": "python",
   "pygments_lexer": "ipython3",
   "version": "3.7.3"
  }
 },
 "nbformat": 4,
 "nbformat_minor": 2
}
